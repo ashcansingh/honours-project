{
 "cells": [
  {
   "cell_type": "markdown",
   "metadata": {},
   "source": [
    "## Semantic Textual Similarity"
   ]
  },
  {
   "cell_type": "code",
   "execution_count": 1,
   "metadata": {},
   "outputs": [
    {
     "name": "stderr",
     "output_type": "stream",
     "text": [
      "/research/home/he231839/honours/GitHub2/honours-project/venv/lib64/python3.9/site-packages/tqdm/auto.py:21: TqdmWarning: IProgress not found. Please update jupyter and ipywidgets. See https://ipywidgets.readthedocs.io/en/stable/user_install.html\n",
      "  from .autonotebook import tqdm as notebook_tqdm\n"
     ]
    }
   ],
   "source": [
    "from datasets import load_dataset, concatenate_datasets\n",
    "import pandas as pd\n",
    "import numpy as np\n",
    "import torch\n",
    "import matplotlib.pyplot as plt"
   ]
  },
  {
   "cell_type": "markdown",
   "metadata": {},
   "source": [
    "#### Load Dataset"
   ]
  },
  {
   "cell_type": "code",
   "execution_count": 2,
   "metadata": {},
   "outputs": [],
   "source": [
    "biosses_dataset = load_dataset('bigbio/biosses', trust_remote_code = True)\n",
    "\n",
    "biosses_concatenated = concatenate_datasets([\n",
    "    biosses_dataset['train'],\n",
    "    biosses_dataset['validation'],\n",
    "    biosses_dataset['test']\n",
    "])"
   ]
  },
  {
   "cell_type": "markdown",
   "metadata": {},
   "source": [
    "#### Convert to Pandas and Clean"
   ]
  },
  {
   "cell_type": "code",
   "execution_count": 3,
   "metadata": {},
   "outputs": [
    {
     "data": {
      "text/html": [
       "<div>\n",
       "<style scoped>\n",
       "    .dataframe tbody tr th:only-of-type {\n",
       "        vertical-align: middle;\n",
       "    }\n",
       "\n",
       "    .dataframe tbody tr th {\n",
       "        vertical-align: top;\n",
       "    }\n",
       "\n",
       "    .dataframe thead th {\n",
       "        text-align: right;\n",
       "    }\n",
       "</style>\n",
       "<table border=\"1\" class=\"dataframe\">\n",
       "  <thead>\n",
       "    <tr style=\"text-align: right;\">\n",
       "      <th></th>\n",
       "      <th>id</th>\n",
       "      <th>document_id</th>\n",
       "      <th>text_1</th>\n",
       "      <th>text_2</th>\n",
       "      <th>annotator_a</th>\n",
       "      <th>annotator_b</th>\n",
       "      <th>annotator_c</th>\n",
       "      <th>annotator_d</th>\n",
       "      <th>annotator_e</th>\n",
       "      <th>mean_label</th>\n",
       "    </tr>\n",
       "  </thead>\n",
       "  <tbody>\n",
       "    <tr>\n",
       "      <th>0</th>\n",
       "      <td>0</td>\n",
       "      <td>1</td>\n",
       "      <td>It has recently been shown that Craf is essent...</td>\n",
       "      <td>It has recently become evident that Craf is es...</td>\n",
       "      <td>4</td>\n",
       "      <td>4</td>\n",
       "      <td>4</td>\n",
       "      <td>4</td>\n",
       "      <td>4</td>\n",
       "      <td>1.0000</td>\n",
       "    </tr>\n",
       "    <tr>\n",
       "      <th>1</th>\n",
       "      <td>2</td>\n",
       "      <td>3</td>\n",
       "      <td>Previous studies demonstrated that the decreas...</td>\n",
       "      <td>In addition, genetic and functional studies su...</td>\n",
       "      <td>2</td>\n",
       "      <td>2</td>\n",
       "      <td>3</td>\n",
       "      <td>2</td>\n",
       "      <td>2</td>\n",
       "      <td>0.5625</td>\n",
       "    </tr>\n",
       "    <tr>\n",
       "      <th>2</th>\n",
       "      <td>3</td>\n",
       "      <td>4</td>\n",
       "      <td>More recently, IDH mutations and resultant 2-h...</td>\n",
       "      <td>It has also been recently reported that mutati...</td>\n",
       "      <td>3</td>\n",
       "      <td>3</td>\n",
       "      <td>4</td>\n",
       "      <td>3</td>\n",
       "      <td>3</td>\n",
       "      <td>0.8125</td>\n",
       "    </tr>\n",
       "    <tr>\n",
       "      <th>3</th>\n",
       "      <td>4</td>\n",
       "      <td>5</td>\n",
       "      <td>Recent in vitro studies using shRNA-based appr...</td>\n",
       "      <td>Two recent studies used RNAi-mediated Tet2 kno...</td>\n",
       "      <td>3</td>\n",
       "      <td>3</td>\n",
       "      <td>4</td>\n",
       "      <td>3</td>\n",
       "      <td>3</td>\n",
       "      <td>0.8125</td>\n",
       "    </tr>\n",
       "    <tr>\n",
       "      <th>4</th>\n",
       "      <td>5</td>\n",
       "      <td>6</td>\n",
       "      <td>Recently, it was reported that expression of I...</td>\n",
       "      <td>This large-scale study showed that IDH1/IDH2 m...</td>\n",
       "      <td>3</td>\n",
       "      <td>3</td>\n",
       "      <td>4</td>\n",
       "      <td>3</td>\n",
       "      <td>3</td>\n",
       "      <td>0.8125</td>\n",
       "    </tr>\n",
       "  </tbody>\n",
       "</table>\n",
       "</div>"
      ],
      "text/plain": [
       "   id  document_id                                             text_1  \\\n",
       "0   0            1  It has recently been shown that Craf is essent...   \n",
       "1   2            3  Previous studies demonstrated that the decreas...   \n",
       "2   3            4  More recently, IDH mutations and resultant 2-h...   \n",
       "3   4            5  Recent in vitro studies using shRNA-based appr...   \n",
       "4   5            6  Recently, it was reported that expression of I...   \n",
       "\n",
       "                                              text_2  annotator_a  \\\n",
       "0  It has recently become evident that Craf is es...            4   \n",
       "1  In addition, genetic and functional studies su...            2   \n",
       "2  It has also been recently reported that mutati...            3   \n",
       "3  Two recent studies used RNAi-mediated Tet2 kno...            3   \n",
       "4  This large-scale study showed that IDH1/IDH2 m...            3   \n",
       "\n",
       "   annotator_b  annotator_c  annotator_d  annotator_e  mean_label  \n",
       "0            4            4            4            4      1.0000  \n",
       "1            2            3            2            2      0.5625  \n",
       "2            3            4            3            3      0.8125  \n",
       "3            3            4            3            3      0.8125  \n",
       "4            3            4            3            3      0.8125  "
      ]
     },
     "execution_count": 3,
     "metadata": {},
     "output_type": "execute_result"
    }
   ],
   "source": [
    "# Concatenate Train, Validation and Test Set\n",
    "biosses = biosses_concatenated.to_pandas()\n",
    "\n",
    "# Create Mean Label across all 5 annotations\n",
    "biosses['mean_label'] = biosses.iloc[:, 4:-1].mean(axis = 1)\n",
    "\n",
    "# Normalised Mean Label for Cosine Similarity\n",
    "biosses['mean_label'] = biosses['mean_label'] / 4\n",
    "biosses.head()"
   ]
  },
  {
   "cell_type": "markdown",
   "metadata": {},
   "source": [
    "#### Load ClinicalBERT"
   ]
  },
  {
   "cell_type": "code",
   "execution_count": 9,
   "metadata": {},
   "outputs": [],
   "source": [
    "from transformers import AutoTokenizer, AutoModel\n",
    "\n",
    "ClinicalBERT = 'medicalai/ClinicalBERT'\n",
    "BERT = 'google-bert/bert-base-uncased'\n",
    "\n",
    "tokenizer_ClinicalBERT = AutoTokenizer.from_pretrained(ClinicalBERT)\n",
    "model_ClinicalBERT = AutoModel.from_pretrained(ClinicalBERT)\n",
    "\n",
    "tokenizer_BERT = AutoTokenizer.from_pretrained(BERT)\n",
    "model_BERT = AutoModel.from_pretrained(BERT)"
   ]
  },
  {
   "cell_type": "code",
   "execution_count": 5,
   "metadata": {},
   "outputs": [],
   "source": [
    "def mean_pooling(inputs, model):\n",
    "    with torch.no_grad():\n",
    "            outputs = model(**inputs)\n",
    "            last_hidden_state = outputs.last_hidden_state\n",
    "            \n",
    "    attention_mask = inputs['attention_mask']\n",
    "    mask_expanded = attention_mask.unsqueeze(-1).expand(last_hidden_state.size()).float()\n",
    "    sum_embeddings = torch.sum(last_hidden_state * mask_expanded, 1)\n",
    "    sum_mask = torch.clamp(mask_expanded.sum(1), min=1e-9)\n",
    "    mean_pooling = sum_embeddings / sum_mask  # shape: [batch_size, hidden_dim]\n",
    "\n",
    "    return mean_pooling\n"
   ]
  },
  {
   "cell_type": "code",
   "execution_count": 6,
   "metadata": {},
   "outputs": [],
   "source": [
    "def cosine_similarity(tokenizer, model, row):\n",
    "    input1 = tokenizer(row['text_1'], return_tensors = 'pt', padding = False)\n",
    "    input2 = tokenizer(row['text_2'], return_tensors = 'pt', padding = False)\n",
    "\n",
    "    embeddings = [mean_pooling(inputs, model) for inputs in [input1, input2]]\n",
    "\n",
    "    cos_sim = torch.nn.functional.cosine_similarity(embeddings[0], embeddings[1])\n",
    "\n",
    "    return cos_sim.item()\n",
    "\n",
    "        \n",
    "\n"
   ]
  },
  {
   "cell_type": "code",
   "execution_count": 12,
   "metadata": {},
   "outputs": [],
   "source": [
    "biosses['ClinicalBERT_SIM'] = biosses.apply(lambda row: cosine_similarity(tokenizer_ClinicalBERT, model_ClinicalBERT, row), axis = 1)\n",
    "biosses['BERT_SIM'] = biosses.apply(lambda row: cosine_similarity(tokenizer_BERT, model_BERT, row), axis = 1)"
   ]
  },
  {
   "cell_type": "code",
   "execution_count": 15,
   "metadata": {},
   "outputs": [],
   "source": [
    "biosses.to_csv('biosses_data.csv')"
   ]
  },
  {
   "cell_type": "code",
   "execution_count": 13,
   "metadata": {},
   "outputs": [
    {
     "data": {
      "text/html": [
       "<div>\n",
       "<style scoped>\n",
       "    .dataframe tbody tr th:only-of-type {\n",
       "        vertical-align: middle;\n",
       "    }\n",
       "\n",
       "    .dataframe tbody tr th {\n",
       "        vertical-align: top;\n",
       "    }\n",
       "\n",
       "    .dataframe thead th {\n",
       "        text-align: right;\n",
       "    }\n",
       "</style>\n",
       "<table border=\"1\" class=\"dataframe\">\n",
       "  <thead>\n",
       "    <tr style=\"text-align: right;\">\n",
       "      <th></th>\n",
       "      <th>id</th>\n",
       "      <th>document_id</th>\n",
       "      <th>text_1</th>\n",
       "      <th>text_2</th>\n",
       "      <th>annotator_a</th>\n",
       "      <th>annotator_b</th>\n",
       "      <th>annotator_c</th>\n",
       "      <th>annotator_d</th>\n",
       "      <th>annotator_e</th>\n",
       "      <th>mean_label</th>\n",
       "      <th>ClinicalBERT_SIM</th>\n",
       "      <th>BERT_SIM</th>\n",
       "    </tr>\n",
       "  </thead>\n",
       "  <tbody>\n",
       "    <tr>\n",
       "      <th>0</th>\n",
       "      <td>0</td>\n",
       "      <td>1</td>\n",
       "      <td>It has recently been shown that Craf is essent...</td>\n",
       "      <td>It has recently become evident that Craf is es...</td>\n",
       "      <td>4</td>\n",
       "      <td>4</td>\n",
       "      <td>4</td>\n",
       "      <td>4</td>\n",
       "      <td>4</td>\n",
       "      <td>1.0000</td>\n",
       "      <td>0.825240</td>\n",
       "      <td>0.849393</td>\n",
       "    </tr>\n",
       "    <tr>\n",
       "      <th>1</th>\n",
       "      <td>2</td>\n",
       "      <td>3</td>\n",
       "      <td>Previous studies demonstrated that the decreas...</td>\n",
       "      <td>In addition, genetic and functional studies su...</td>\n",
       "      <td>2</td>\n",
       "      <td>2</td>\n",
       "      <td>3</td>\n",
       "      <td>2</td>\n",
       "      <td>2</td>\n",
       "      <td>0.5625</td>\n",
       "      <td>0.805170</td>\n",
       "      <td>0.819069</td>\n",
       "    </tr>\n",
       "    <tr>\n",
       "      <th>2</th>\n",
       "      <td>3</td>\n",
       "      <td>4</td>\n",
       "      <td>More recently, IDH mutations and resultant 2-h...</td>\n",
       "      <td>It has also been recently reported that mutati...</td>\n",
       "      <td>3</td>\n",
       "      <td>3</td>\n",
       "      <td>4</td>\n",
       "      <td>3</td>\n",
       "      <td>3</td>\n",
       "      <td>0.8125</td>\n",
       "      <td>0.926234</td>\n",
       "      <td>0.946986</td>\n",
       "    </tr>\n",
       "    <tr>\n",
       "      <th>3</th>\n",
       "      <td>4</td>\n",
       "      <td>5</td>\n",
       "      <td>Recent in vitro studies using shRNA-based appr...</td>\n",
       "      <td>Two recent studies used RNAi-mediated Tet2 kno...</td>\n",
       "      <td>3</td>\n",
       "      <td>3</td>\n",
       "      <td>4</td>\n",
       "      <td>3</td>\n",
       "      <td>3</td>\n",
       "      <td>0.8125</td>\n",
       "      <td>0.888762</td>\n",
       "      <td>0.934582</td>\n",
       "    </tr>\n",
       "    <tr>\n",
       "      <th>4</th>\n",
       "      <td>5</td>\n",
       "      <td>6</td>\n",
       "      <td>Recently, it was reported that expression of I...</td>\n",
       "      <td>This large-scale study showed that IDH1/IDH2 m...</td>\n",
       "      <td>3</td>\n",
       "      <td>3</td>\n",
       "      <td>4</td>\n",
       "      <td>3</td>\n",
       "      <td>3</td>\n",
       "      <td>0.8125</td>\n",
       "      <td>0.907551</td>\n",
       "      <td>0.917922</td>\n",
       "    </tr>\n",
       "  </tbody>\n",
       "</table>\n",
       "</div>"
      ],
      "text/plain": [
       "   id  document_id                                             text_1  \\\n",
       "0   0            1  It has recently been shown that Craf is essent...   \n",
       "1   2            3  Previous studies demonstrated that the decreas...   \n",
       "2   3            4  More recently, IDH mutations and resultant 2-h...   \n",
       "3   4            5  Recent in vitro studies using shRNA-based appr...   \n",
       "4   5            6  Recently, it was reported that expression of I...   \n",
       "\n",
       "                                              text_2  annotator_a  \\\n",
       "0  It has recently become evident that Craf is es...            4   \n",
       "1  In addition, genetic and functional studies su...            2   \n",
       "2  It has also been recently reported that mutati...            3   \n",
       "3  Two recent studies used RNAi-mediated Tet2 kno...            3   \n",
       "4  This large-scale study showed that IDH1/IDH2 m...            3   \n",
       "\n",
       "   annotator_b  annotator_c  annotator_d  annotator_e  mean_label  \\\n",
       "0            4            4            4            4      1.0000   \n",
       "1            2            3            2            2      0.5625   \n",
       "2            3            4            3            3      0.8125   \n",
       "3            3            4            3            3      0.8125   \n",
       "4            3            4            3            3      0.8125   \n",
       "\n",
       "   ClinicalBERT_SIM  BERT_SIM  \n",
       "0          0.825240  0.849393  \n",
       "1          0.805170  0.819069  \n",
       "2          0.926234  0.946986  \n",
       "3          0.888762  0.934582  \n",
       "4          0.907551  0.917922  "
      ]
     },
     "execution_count": 13,
     "metadata": {},
     "output_type": "execute_result"
    }
   ],
   "source": [
    "biosses.head()"
   ]
  },
  {
   "cell_type": "code",
   "execution_count": 133,
   "metadata": {},
   "outputs": [],
   "source": [
    "def plot_sim(biosses):\n",
    "    plt.hist(biosses['ClinicalBERT_SIM'], bins = 50)\n",
    "    plt.xlabel('Cosine Similarity')\n",
    "    plt.show()"
   ]
  },
  {
   "cell_type": "code",
   "execution_count": 134,
   "metadata": {},
   "outputs": [
    {
     "data": {
      "image/png": "[encoded data removed]",
      "text/plain": [
       "<Figure size 640x480 with 1 Axes>"
      ]
     },
     "metadata": {},
     "output_type": "display_data"
    }
   ],
   "source": [
    "plt.hist(biosses['mean_label'], bins = 30)\n",
    "plt.xlabel('Mean Label')\n",
    "plt.show()"
   ]
  },
  {
   "cell_type": "code",
   "execution_count": 135,
   "metadata": {},
   "outputs": [
    {
     "data": {
      "image/png": "[encoded data removed]",
      "text/plain": [
       "<Figure size 640x480 with 1 Axes>"
      ]
     },
     "metadata": {},
     "output_type": "display_data"
    }
   ],
   "source": [
    "# Mean Values between 0.75 and 1\n",
    "plot_sim(biosses[(biosses['mean_label'] > 0.75) & (biosses['mean_label'] <= 1)])"
   ]
  },
  {
   "cell_type": "code",
   "execution_count": 136,
   "metadata": {},
   "outputs": [
    {
     "data": {
      "image/png": "[encoded data removed]",
      "text/plain": [
       "<Figure size 640x480 with 1 Axes>"
      ]
     },
     "metadata": {},
     "output_type": "display_data"
    }
   ],
   "source": [
    "# Mean Values between 0.5 and 0.75\n",
    "plot_sim(biosses[(biosses['mean_label'] > 0.5) & (biosses['mean_label'] <= 0.75)])"
   ]
  },
  {
   "cell_type": "code",
   "execution_count": 137,
   "metadata": {},
   "outputs": [
    {
     "data": {
      "image/png": "[encoded data removed]",
      "text/plain": [
       "<Figure size 640x480 with 1 Axes>"
      ]
     },
     "metadata": {},
     "output_type": "display_data"
    }
   ],
   "source": [
    "# Mean Values between 0.25 and 0.5\n",
    "plot_sim(biosses[(biosses['mean_label'] > 0.25) & (biosses['mean_label'] <= 0.5)])"
   ]
  },
  {
   "cell_type": "code",
   "execution_count": 138,
   "metadata": {},
   "outputs": [
    {
     "data": {
      "image/png": "[encoded data removed]",
      "text/plain": [
       "<Figure size 640x480 with 1 Axes>"
      ]
     },
     "metadata": {},
     "output_type": "display_data"
    }
   ],
   "source": [
    "# Mean Values between 0.0 and 0.25\n",
    "plot_sim(biosses[biosses['mean_label'] <= 0.25])"
   ]
  },
  {
   "cell_type": "code",
   "execution_count": null,
   "metadata": {},
   "outputs": [],
   "source": []
  }
 ],
 "metadata": {
  "kernelspec": {
   "display_name": "venv",
   "language": "python",
   "name": "python3"
  },
  "language_info": {
   "codemirror_mode": {
    "name": "ipython",
    "version": 3
   },
   "file_extension": ".py",
   "mimetype": "text/x-python",
   "name": "python",
   "nbconvert_exporter": "python",
   "pygments_lexer": "ipython3",
   "version": "3.9.19"
  }
 },
 "nbformat": 4,
 "nbformat_minor": 2
}

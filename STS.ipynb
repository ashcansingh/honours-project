{
 "cells": [
  {
   "cell_type": "markdown",
   "metadata": {},
   "source": [
    "## Semantic Textual Similarity"
   ]
  },
  {
   "cell_type": "markdown",
   "metadata": {},
   "source": [
    "#### Load Dataset"
   ]
  },
  {
   "cell_type": "code",
   "execution_count": 18,
   "metadata": {},
   "outputs": [],
   "source": [
    "from datasets import load_dataset, concatenate_datasets\n",
    "import pandas as pd\n",
    "import numpy as np\n",
    "\n",
    "biosses_dataset = load_dataset('bigbio/biosses', trust_remote_code = True)\n",
    "\n",
    "biosses_concatenated = concatenate_datasets([\n",
    "    biosses_dataset['train'],\n",
    "    biosses_dataset['validation'],\n",
    "    biosses_dataset['test']\n",
    "])"
   ]
  },
  {
   "cell_type": "markdown",
   "metadata": {},
   "source": [
    "#### Convert to Pandas and Clean"
   ]
  },
  {
   "cell_type": "code",
   "execution_count": 19,
   "metadata": {},
   "outputs": [
    {
     "data": {
      "text/html": [
       "<div>\n",
       "<style scoped>\n",
       "    .dataframe tbody tr th:only-of-type {\n",
       "        vertical-align: middle;\n",
       "    }\n",
       "\n",
       "    .dataframe tbody tr th {\n",
       "        vertical-align: top;\n",
       "    }\n",
       "\n",
       "    .dataframe thead th {\n",
       "        text-align: right;\n",
       "    }\n",
       "</style>\n",
       "<table border=\"1\" class=\"dataframe\">\n",
       "  <thead>\n",
       "    <tr style=\"text-align: right;\">\n",
       "      <th></th>\n",
       "      <th>id</th>\n",
       "      <th>document_id</th>\n",
       "      <th>text_1</th>\n",
       "      <th>text_2</th>\n",
       "      <th>annotator_a</th>\n",
       "      <th>annotator_b</th>\n",
       "      <th>annotator_c</th>\n",
       "      <th>annotator_d</th>\n",
       "      <th>annotator_e</th>\n",
       "    </tr>\n",
       "  </thead>\n",
       "  <tbody>\n",
       "    <tr>\n",
       "      <th>0</th>\n",
       "      <td>0</td>\n",
       "      <td>1</td>\n",
       "      <td>It has recently been shown that Craf is essent...</td>\n",
       "      <td>It has recently become evident that Craf is es...</td>\n",
       "      <td>4</td>\n",
       "      <td>4</td>\n",
       "      <td>4</td>\n",
       "      <td>4</td>\n",
       "      <td>4</td>\n",
       "    </tr>\n",
       "    <tr>\n",
       "      <th>1</th>\n",
       "      <td>2</td>\n",
       "      <td>3</td>\n",
       "      <td>Previous studies demonstrated that the decreas...</td>\n",
       "      <td>In addition, genetic and functional studies su...</td>\n",
       "      <td>2</td>\n",
       "      <td>2</td>\n",
       "      <td>3</td>\n",
       "      <td>2</td>\n",
       "      <td>2</td>\n",
       "    </tr>\n",
       "    <tr>\n",
       "      <th>2</th>\n",
       "      <td>3</td>\n",
       "      <td>4</td>\n",
       "      <td>More recently, IDH mutations and resultant 2-h...</td>\n",
       "      <td>It has also been recently reported that mutati...</td>\n",
       "      <td>3</td>\n",
       "      <td>3</td>\n",
       "      <td>4</td>\n",
       "      <td>3</td>\n",
       "      <td>3</td>\n",
       "    </tr>\n",
       "    <tr>\n",
       "      <th>3</th>\n",
       "      <td>4</td>\n",
       "      <td>5</td>\n",
       "      <td>Recent in vitro studies using shRNA-based appr...</td>\n",
       "      <td>Two recent studies used RNAi-mediated Tet2 kno...</td>\n",
       "      <td>3</td>\n",
       "      <td>3</td>\n",
       "      <td>4</td>\n",
       "      <td>3</td>\n",
       "      <td>3</td>\n",
       "    </tr>\n",
       "    <tr>\n",
       "      <th>4</th>\n",
       "      <td>5</td>\n",
       "      <td>6</td>\n",
       "      <td>Recently, it was reported that expression of I...</td>\n",
       "      <td>This large-scale study showed that IDH1/IDH2 m...</td>\n",
       "      <td>3</td>\n",
       "      <td>3</td>\n",
       "      <td>4</td>\n",
       "      <td>3</td>\n",
       "      <td>3</td>\n",
       "    </tr>\n",
       "  </tbody>\n",
       "</table>\n",
       "</div>"
      ],
      "text/plain": [
       "   id  document_id                                             text_1  \\\n",
       "0   0            1  It has recently been shown that Craf is essent...   \n",
       "1   2            3  Previous studies demonstrated that the decreas...   \n",
       "2   3            4  More recently, IDH mutations and resultant 2-h...   \n",
       "3   4            5  Recent in vitro studies using shRNA-based appr...   \n",
       "4   5            6  Recently, it was reported that expression of I...   \n",
       "\n",
       "                                              text_2  annotator_a  \\\n",
       "0  It has recently become evident that Craf is es...            4   \n",
       "1  In addition, genetic and functional studies su...            2   \n",
       "2  It has also been recently reported that mutati...            3   \n",
       "3  Two recent studies used RNAi-mediated Tet2 kno...            3   \n",
       "4  This large-scale study showed that IDH1/IDH2 m...            3   \n",
       "\n",
       "   annotator_b  annotator_c  annotator_d  annotator_e  \n",
       "0            4            4            4            4  \n",
       "1            2            3            2            2  \n",
       "2            3            4            3            3  \n",
       "3            3            4            3            3  \n",
       "4            3            4            3            3  "
      ]
     },
     "execution_count": 19,
     "metadata": {},
     "output_type": "execute_result"
    }
   ],
   "source": [
    "# Concatenate Train, Validation and Test Set\n",
    "biosses = biosses_concatenated.to_pandas()\n",
    "\n",
    "# Create Mean Label across all 5 annotations\n",
    "biosses['mean_label'] = biosses.iloc[:, 4:-1].mean(axis = 1)\n",
    "\n",
    "# Normalised Mean Label for Cosine Similarity\n",
    "biosses['mean_label'] = biosses['mean_label'] / 4\n",
    "biosses.head()"
   ]
  },
  {
   "cell_type": "markdown",
   "metadata": {},
   "source": []
  }
 ],
 "metadata": {
  "kernelspec": {
   "display_name": "venv",
   "language": "python",
   "name": "python3"
  },
  "language_info": {
   "codemirror_mode": {
    "name": "ipython",
    "version": 3
   },
   "file_extension": ".py",
   "mimetype": "text/x-python",
   "name": "python",
   "nbconvert_exporter": "python",
   "pygments_lexer": "ipython3",
   "version": "3.9.19"
  }
 },
 "nbformat": 4,
 "nbformat_minor": 2
}

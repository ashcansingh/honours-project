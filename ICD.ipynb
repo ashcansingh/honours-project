{
 "cells": [
  {
   "cell_type": "markdown",
   "metadata": {},
   "source": [
    "### Performance of Classification Between Cosine Similarity of Vector Embeddings and LLM"
   ]
  },
  {
   "cell_type": "markdown",
   "metadata": {},
   "source": [
    "##### Load Data"
   ]
  },
  {
   "cell_type": "code",
   "execution_count": 9,
   "metadata": {},
   "outputs": [],
   "source": [
    "from datasets import load_dataset, concatenate_datasets"
   ]
  },
  {
   "cell_type": "code",
   "execution_count": 10,
   "metadata": {},
   "outputs": [
    {
     "data": {
      "text/html": [
       "<div>\n",
       "<style scoped>\n",
       "    .dataframe tbody tr th:only-of-type {\n",
       "        vertical-align: middle;\n",
       "    }\n",
       "\n",
       "    .dataframe tbody tr th {\n",
       "        vertical-align: top;\n",
       "    }\n",
       "\n",
       "    .dataframe thead th {\n",
       "        text-align: right;\n",
       "    }\n",
       "</style>\n",
       "<table border=\"1\" class=\"dataframe\">\n",
       "  <thead>\n",
       "    <tr style=\"text-align: right;\">\n",
       "      <th></th>\n",
       "      <th>docdesc</th>\n",
       "      <th>dxcode</th>\n",
       "      <th>shortdesc</th>\n",
       "      <th>longdesc</th>\n",
       "    </tr>\n",
       "  </thead>\n",
       "  <tbody>\n",
       "    <tr>\n",
       "      <th>0</th>\n",
       "      <td>12 week IUP</td>\n",
       "      <td>Z3A.12</td>\n",
       "      <td>12 weeks gestation of pregnancy</td>\n",
       "      <td>12 weeks gestation of pregnancy</td>\n",
       "    </tr>\n",
       "    <tr>\n",
       "      <th>1</th>\n",
       "      <td>14 weeks pregnant</td>\n",
       "      <td>Z3A.14</td>\n",
       "      <td>14 weeks gestation of pregnancy</td>\n",
       "      <td>14 weeks gestation of pregnancy</td>\n",
       "    </tr>\n",
       "    <tr>\n",
       "      <th>2</th>\n",
       "      <td>15 weeks pregnant</td>\n",
       "      <td>Z3A.15</td>\n",
       "      <td>15 weeks gestation of pregnancy</td>\n",
       "      <td>15 weeks gestation of pregnancy</td>\n",
       "    </tr>\n",
       "    <tr>\n",
       "      <th>3</th>\n",
       "      <td>17 wks pregnant</td>\n",
       "      <td>Z3A.17</td>\n",
       "      <td>17 weeks gestation of pregnancy</td>\n",
       "      <td>17 weeks gestation of pregnancy</td>\n",
       "    </tr>\n",
       "    <tr>\n",
       "      <th>4</th>\n",
       "      <td>2 weeks pregnant</td>\n",
       "      <td>Z3A.20</td>\n",
       "      <td>20 weeks gestation of pregnancy</td>\n",
       "      <td>20 weeks gestation of pregnancy</td>\n",
       "    </tr>\n",
       "  </tbody>\n",
       "</table>\n",
       "</div>"
      ],
      "text/plain": [
       "             docdesc  dxcode                        shortdesc  \\\n",
       "0        12 week IUP  Z3A.12  12 weeks gestation of pregnancy   \n",
       "1  14 weeks pregnant  Z3A.14  14 weeks gestation of pregnancy   \n",
       "2  15 weeks pregnant  Z3A.15  15 weeks gestation of pregnancy   \n",
       "3    17 wks pregnant  Z3A.17  17 weeks gestation of pregnancy   \n",
       "4   2 weeks pregnant  Z3A.20  20 weeks gestation of pregnancy   \n",
       "\n",
       "                          longdesc  \n",
       "0  12 weeks gestation of pregnancy  \n",
       "1  14 weeks gestation of pregnancy  \n",
       "2  15 weeks gestation of pregnancy  \n",
       "3  17 weeks gestation of pregnancy  \n",
       "4  20 weeks gestation of pregnancy  "
      ]
     },
     "execution_count": 10,
     "metadata": {},
     "output_type": "execute_result"
    }
   ],
   "source": [
    "icd_dataset = load_dataset('krishnareddy/icddxdescmap', trust_remote_code = True)\n",
    "\n",
    "icd_concat = concatenate_datasets([\n",
    "    icd_dataset['train'],\n",
    "    icd_dataset['validation'],\n",
    "    icd_dataset['test']\n",
    "])\n",
    "\n",
    "icd_data = icd_concat.to_pandas()\n",
    "icd_data.head()"
   ]
  },
  {
   "cell_type": "markdown",
   "metadata": {},
   "source": [
    "##### Clean"
   ]
  },
  {
   "cell_type": "code",
   "execution_count": 11,
   "metadata": {},
   "outputs": [
    {
     "data": {
      "text/html": [
       "<div>\n",
       "<style scoped>\n",
       "    .dataframe tbody tr th:only-of-type {\n",
       "        vertical-align: middle;\n",
       "    }\n",
       "\n",
       "    .dataframe tbody tr th {\n",
       "        vertical-align: top;\n",
       "    }\n",
       "\n",
       "    .dataframe thead th {\n",
       "        text-align: right;\n",
       "    }\n",
       "</style>\n",
       "<table border=\"1\" class=\"dataframe\">\n",
       "  <thead>\n",
       "    <tr style=\"text-align: right;\">\n",
       "      <th></th>\n",
       "      <th>docdesc</th>\n",
       "      <th>dxcode</th>\n",
       "      <th>shortdesc</th>\n",
       "      <th>longdesc</th>\n",
       "    </tr>\n",
       "  </thead>\n",
       "  <tbody>\n",
       "    <tr>\n",
       "      <th>0</th>\n",
       "      <td>12 week IUP</td>\n",
       "      <td>Z3A12</td>\n",
       "      <td>12 weeks gestation of pregnancy</td>\n",
       "      <td>12 weeks gestation of pregnancy</td>\n",
       "    </tr>\n",
       "    <tr>\n",
       "      <th>1</th>\n",
       "      <td>14 weeks pregnant</td>\n",
       "      <td>Z3A14</td>\n",
       "      <td>14 weeks gestation of pregnancy</td>\n",
       "      <td>14 weeks gestation of pregnancy</td>\n",
       "    </tr>\n",
       "    <tr>\n",
       "      <th>2</th>\n",
       "      <td>15 weeks pregnant</td>\n",
       "      <td>Z3A15</td>\n",
       "      <td>15 weeks gestation of pregnancy</td>\n",
       "      <td>15 weeks gestation of pregnancy</td>\n",
       "    </tr>\n",
       "    <tr>\n",
       "      <th>3</th>\n",
       "      <td>17 wks pregnant</td>\n",
       "      <td>Z3A17</td>\n",
       "      <td>17 weeks gestation of pregnancy</td>\n",
       "      <td>17 weeks gestation of pregnancy</td>\n",
       "    </tr>\n",
       "    <tr>\n",
       "      <th>4</th>\n",
       "      <td>2 weeks pregnant</td>\n",
       "      <td>Z3A20</td>\n",
       "      <td>20 weeks gestation of pregnancy</td>\n",
       "      <td>20 weeks gestation of pregnancy</td>\n",
       "    </tr>\n",
       "  </tbody>\n",
       "</table>\n",
       "</div>"
      ],
      "text/plain": [
       "             docdesc dxcode                        shortdesc  \\\n",
       "0        12 week IUP  Z3A12  12 weeks gestation of pregnancy   \n",
       "1  14 weeks pregnant  Z3A14  14 weeks gestation of pregnancy   \n",
       "2  15 weeks pregnant  Z3A15  15 weeks gestation of pregnancy   \n",
       "3    17 wks pregnant  Z3A17  17 weeks gestation of pregnancy   \n",
       "4   2 weeks pregnant  Z3A20  20 weeks gestation of pregnancy   \n",
       "\n",
       "                          longdesc  \n",
       "0  12 weeks gestation of pregnancy  \n",
       "1  14 weeks gestation of pregnancy  \n",
       "2  15 weeks gestation of pregnancy  \n",
       "3  17 weeks gestation of pregnancy  \n",
       "4  20 weeks gestation of pregnancy  "
      ]
     },
     "execution_count": 11,
     "metadata": {},
     "output_type": "execute_result"
    }
   ],
   "source": [
    "# Remove '.' in the dataset to much the ICD code set that we have\n",
    "icd_data['dxcode'] = icd_data['dxcode'].str.replace('.', '', regex = False)\n",
    "\n",
    "icd_data.head()"
   ]
  },
  {
   "cell_type": "markdown",
   "metadata": {},
   "source": [
    "##### Load ICD Embeddings"
   ]
  },
  {
   "cell_type": "code",
   "execution_count": 12,
   "metadata": {},
   "outputs": [
    {
     "ename": "FileNotFoundError",
     "evalue": "[Errno 2] No such file or directory: './Saved Data/ICD Pickles/pritamdeka.pkl'",
     "output_type": "error",
     "traceback": [
      "\u001b[0;31m---------------------------------------------------------------------------\u001b[0m",
      "\u001b[0;31mFileNotFoundError\u001b[0m                         Traceback (most recent call last)",
      "Cell \u001b[0;32mIn[12], line 3\u001b[0m\n\u001b[1;32m      1\u001b[0m \u001b[38;5;28;01mfrom\u001b[39;00m\u001b[38;5;250m \u001b[39m\u001b[38;5;21;01mhelpers\u001b[39;00m\u001b[38;5;21;01m.\u001b[39;00m\u001b[38;5;21;01micd\u001b[39;00m\u001b[38;5;250m \u001b[39m\u001b[38;5;28;01mimport\u001b[39;00m open_icd_embeddings\n\u001b[0;32m----> 3\u001b[0m embeddings \u001b[38;5;241m=\u001b[39m \u001b[43mopen_icd_embeddings\u001b[49m\u001b[43m(\u001b[49m\u001b[38;5;124;43m'\u001b[39;49m\u001b[38;5;124;43mpritamdeka\u001b[39;49m\u001b[38;5;124;43m'\u001b[39;49m\u001b[43m)\u001b[49m\n",
      "File \u001b[0;32m~/honours/temp/GitHub2/honours-project/helpers/icd.py:76\u001b[0m, in \u001b[0;36mopen_icd_embeddings\u001b[0;34m(file_name)\u001b[0m\n\u001b[1;32m     75\u001b[0m \u001b[38;5;28;01mdef\u001b[39;00m\u001b[38;5;250m \u001b[39m\u001b[38;5;21mopen_icd_embeddings\u001b[39m(file_name):\n\u001b[0;32m---> 76\u001b[0m     \u001b[38;5;28;01mwith\u001b[39;00m \u001b[38;5;28;43mopen\u001b[39;49m\u001b[43m(\u001b[49m\u001b[38;5;124;43mf\u001b[39;49m\u001b[38;5;124;43m\"\u001b[39;49m\u001b[38;5;124;43m./Saved Data/ICD Pickles/\u001b[39;49m\u001b[38;5;132;43;01m{\u001b[39;49;00m\u001b[43mfile_name\u001b[49m\u001b[38;5;132;43;01m}\u001b[39;49;00m\u001b[38;5;124;43m.pkl\u001b[39;49m\u001b[38;5;124;43m\"\u001b[39;49m\u001b[43m,\u001b[49m\u001b[43m \u001b[49m\u001b[38;5;124;43m\"\u001b[39;49m\u001b[38;5;124;43mrb\u001b[39;49m\u001b[38;5;124;43m\"\u001b[39;49m\u001b[43m)\u001b[49m \u001b[38;5;28;01mas\u001b[39;00m p:\n\u001b[1;32m     77\u001b[0m         \u001b[38;5;28;01mreturn\u001b[39;00m pickle\u001b[38;5;241m.\u001b[39mload(p)\n",
      "\u001b[0;31mFileNotFoundError\u001b[0m: [Errno 2] No such file or directory: './Saved Data/ICD Pickles/pritamdeka.pkl'"
     ]
    }
   ],
   "source": [
    "from helpers.icd import open_icd_embeddings\n",
    "\n",
    "embeddings = open_icd_embeddings('pritamdeka')"
   ]
  },
  {
   "cell_type": "markdown",
   "metadata": {},
   "source": [
    "##### Embed Text from Dataset"
   ]
  },
  {
   "cell_type": "code",
   "execution_count": null,
   "metadata": {},
   "outputs": [],
   "source": [
    "from sentence_transformers import SentenceTransformer\n",
    "model = SentenceTransformer('pritamdeka/S-PubMedBert-MS-MARCO')"
   ]
  },
  {
   "cell_type": "code",
   "execution_count": null,
   "metadata": {},
   "outputs": [],
   "source": [
    "encoding = model.encode(icd_data['docdesc'][0])"
   ]
  },
  {
   "cell_type": "code",
   "execution_count": null,
   "metadata": {},
   "outputs": [],
   "source": [
    "from helpers.icd import get_top_k_similar"
   ]
  },
  {
   "cell_type": "code",
   "execution_count": null,
   "metadata": {},
   "outputs": [
    {
     "name": "stdout",
     "output_type": "stream",
     "text": [
      "Z3A12: similarity = 0.9186\n",
      "Z3A24: similarity = 0.9098\n",
      "Z3A18: similarity = 0.9064\n",
      "Z3A08: similarity = 0.9054\n",
      "Z3A36: similarity = 0.9042\n"
     ]
    }
   ],
   "source": [
    "get_top_k_similar(encoding, embeddings)"
   ]
  },
  {
   "cell_type": "code",
   "execution_count": null,
   "metadata": {},
   "outputs": [
    {
     "name": "stdout",
     "output_type": "stream",
     "text": [
      "-----------\n",
      "D34\n",
      "-----\n",
      "D34: similarity = 1.0000\n",
      "C73: similarity = 0.9728\n",
      "D351: similarity = 0.9684\n",
      "D110: similarity = 0.9676\n",
      "D352: similarity = 0.9637\n",
      "-----------\n",
      "H8110\n",
      "-----\n",
      "H8113: similarity = 0.9590\n",
      "H8112: similarity = 0.9569\n",
      "H8111: similarity = 0.9527\n",
      "H8110: similarity = 0.9414\n",
      "H81313: similarity = 0.9150\n",
      "-----------\n",
      "H8110\n",
      "-----\n",
      "H8113: similarity = 0.9498\n",
      "H8112: similarity = 0.9470\n",
      "H8111: similarity = 0.9429\n",
      "H8110: similarity = 0.9310\n",
      "H81313: similarity = 0.9188\n",
      "-----------\n",
      "N400\n",
      "-----\n",
      "D291: similarity = 0.9466\n",
      "N62: similarity = 0.9322\n",
      "N8501: similarity = 0.9289\n",
      "N400: similarity = 0.9262\n",
      "D352: similarity = 0.9248\n",
      "-----------\n",
      "N400\n",
      "-----\n",
      "N401: similarity = 0.9309\n",
      "N400: similarity = 0.9293\n",
      "D291: similarity = 0.9166\n",
      "N8501: similarity = 0.9104\n",
      "M2603: similarity = 0.9091\n",
      "-----------\n",
      "N400\n",
      "-----\n",
      "D291: similarity = 0.9217\n",
      "N401: similarity = 0.9149\n",
      "D2921: similarity = 0.9147\n",
      "N400: similarity = 0.9144\n",
      "D3501: similarity = 0.9111\n",
      "-----------\n",
      "N401\n",
      "-----\n",
      "N401: similarity = 0.9247\n",
      "N46123: similarity = 0.9199\n",
      "N400: similarity = 0.9195\n",
      "N46023: similarity = 0.9191\n",
      "O653: similarity = 0.9123\n",
      "-----------\n",
      "N400\n",
      "-----\n",
      "N400: similarity = 0.9110\n",
      "D291: similarity = 0.9100\n",
      "N401: similarity = 0.9088\n",
      "N8501: similarity = 0.9055\n",
      "D352: similarity = 0.9005\n",
      "-----------\n",
      "N400\n",
      "-----\n",
      "N400: similarity = 0.9132\n",
      "N401: similarity = 0.9115\n",
      "D291: similarity = 0.9110\n",
      "G932: similarity = 0.9041\n",
      "N8501: similarity = 0.9035\n",
      "-----------\n",
      "N281\n",
      "-----\n",
      "D3001: similarity = 0.9643\n",
      "D3011: similarity = 0.9612\n",
      "D3021: similarity = 0.9530\n",
      "D3012: similarity = 0.9511\n",
      "D3002: similarity = 0.9476\n"
     ]
    }
   ],
   "source": [
    "for i in range(1000, 1010):\n",
    "    row = icd_data.iloc[i,:]\n",
    "    print(\"-----------\")\n",
    "    print(row['dxcode'])\n",
    "    print(\"-----\")\n",
    "    encoding = model.encode(row['docdesc'])\n",
    "    get_top_k_similar(encoding, embeddings)"
   ]
  },
  {
   "cell_type": "code",
   "execution_count": null,
   "metadata": {},
   "outputs": [],
   "source": []
  }
 ],
 "metadata": {
  "kernelspec": {
   "display_name": "venv",
   "language": "python",
   "name": "python3"
  },
  "language_info": {
   "codemirror_mode": {
    "name": "ipython",
    "version": 3
   },
   "file_extension": ".py",
   "mimetype": "text/x-python",
   "name": "python",
   "nbconvert_exporter": "python",
   "pygments_lexer": "ipython3",
   "version": "3.9.19"
  }
 },
 "nbformat": 4,
 "nbformat_minor": 2
}

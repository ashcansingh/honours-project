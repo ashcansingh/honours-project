{
 "cells": [
  {
   "cell_type": "markdown",
   "metadata": {},
   "source": [
    "### Performance of Classification Between Cosine Similarity of Vector Embeddings and LLM"
   ]
  },
  {
   "cell_type": "markdown",
   "metadata": {},
   "source": [
    "##### Load Data"
   ]
  },
  {
   "cell_type": "code",
   "execution_count": 1,
   "metadata": {},
   "outputs": [
    {
     "name": "stderr",
     "output_type": "stream",
     "text": [
      "/research/home/he231839/honours/honours-project/venv/lib64/python3.9/site-packages/tqdm/auto.py:21: TqdmWarning: IProgress not found. Please update jupyter and ipywidgets. See https://ipywidgets.readthedocs.io/en/stable/user_install.html\n",
      "  from .autonotebook import tqdm as notebook_tqdm\n"
     ]
    }
   ],
   "source": [
    "from datasets import load_dataset, concatenate_datasets"
   ]
  },
  {
   "cell_type": "code",
   "execution_count": 12,
   "metadata": {},
   "outputs": [
    {
     "data": {
      "text/html": [
       "<div>\n",
       "<style scoped>\n",
       "    .dataframe tbody tr th:only-of-type {\n",
       "        vertical-align: middle;\n",
       "    }\n",
       "\n",
       "    .dataframe tbody tr th {\n",
       "        vertical-align: top;\n",
       "    }\n",
       "\n",
       "    .dataframe thead th {\n",
       "        text-align: right;\n",
       "    }\n",
       "</style>\n",
       "<table border=\"1\" class=\"dataframe\">\n",
       "  <thead>\n",
       "    <tr style=\"text-align: right;\">\n",
       "      <th></th>\n",
       "      <th>docdesc</th>\n",
       "      <th>dxcode</th>\n",
       "      <th>shortdesc</th>\n",
       "      <th>longdesc</th>\n",
       "    </tr>\n",
       "  </thead>\n",
       "  <tbody>\n",
       "    <tr>\n",
       "      <th>0</th>\n",
       "      <td>12 week IUP</td>\n",
       "      <td>Z3A.12</td>\n",
       "      <td>12 weeks gestation of pregnancy</td>\n",
       "      <td>12 weeks gestation of pregnancy</td>\n",
       "    </tr>\n",
       "    <tr>\n",
       "      <th>1</th>\n",
       "      <td>14 weeks pregnant</td>\n",
       "      <td>Z3A.14</td>\n",
       "      <td>14 weeks gestation of pregnancy</td>\n",
       "      <td>14 weeks gestation of pregnancy</td>\n",
       "    </tr>\n",
       "    <tr>\n",
       "      <th>2</th>\n",
       "      <td>15 weeks pregnant</td>\n",
       "      <td>Z3A.15</td>\n",
       "      <td>15 weeks gestation of pregnancy</td>\n",
       "      <td>15 weeks gestation of pregnancy</td>\n",
       "    </tr>\n",
       "    <tr>\n",
       "      <th>3</th>\n",
       "      <td>17 wks pregnant</td>\n",
       "      <td>Z3A.17</td>\n",
       "      <td>17 weeks gestation of pregnancy</td>\n",
       "      <td>17 weeks gestation of pregnancy</td>\n",
       "    </tr>\n",
       "    <tr>\n",
       "      <th>4</th>\n",
       "      <td>2 weeks pregnant</td>\n",
       "      <td>Z3A.20</td>\n",
       "      <td>20 weeks gestation of pregnancy</td>\n",
       "      <td>20 weeks gestation of pregnancy</td>\n",
       "    </tr>\n",
       "  </tbody>\n",
       "</table>\n",
       "</div>"
      ],
      "text/plain": [
       "             docdesc  dxcode                        shortdesc  \\\n",
       "0        12 week IUP  Z3A.12  12 weeks gestation of pregnancy   \n",
       "1  14 weeks pregnant  Z3A.14  14 weeks gestation of pregnancy   \n",
       "2  15 weeks pregnant  Z3A.15  15 weeks gestation of pregnancy   \n",
       "3    17 wks pregnant  Z3A.17  17 weeks gestation of pregnancy   \n",
       "4   2 weeks pregnant  Z3A.20  20 weeks gestation of pregnancy   \n",
       "\n",
       "                          longdesc  \n",
       "0  12 weeks gestation of pregnancy  \n",
       "1  14 weeks gestation of pregnancy  \n",
       "2  15 weeks gestation of pregnancy  \n",
       "3  17 weeks gestation of pregnancy  \n",
       "4  20 weeks gestation of pregnancy  "
      ]
     },
     "execution_count": 12,
     "metadata": {},
     "output_type": "execute_result"
    }
   ],
   "source": [
    "icd_dataset = load_dataset('krishnareddy/icddxdescmap', trust_remote_code = True)\n",
    "\n",
    "icd_train = icd_dataset['train'].to_pandas()\n",
    "icd_validation = icd_dataset['validation'].to_pandas()\n",
    "icd_test = icd_dataset['test'].to_pandas()\n",
    "\n",
    "icd_concat = concatenate_datasets([\n",
    "    icd_dataset['train'],\n",
    "    icd_dataset['validation'],\n",
    "    icd_dataset['test']\n",
    "])\n",
    "\n",
    "icd_data = icd_concat.to_pandas()\n",
    "icd_data.head()"
   ]
  },
  {
   "cell_type": "markdown",
   "metadata": {},
   "source": [
    "##### Clean"
   ]
  },
  {
   "cell_type": "code",
   "execution_count": 21,
   "metadata": {},
   "outputs": [
    {
     "data": {
      "text/html": [
       "<div>\n",
       "<style scoped>\n",
       "    .dataframe tbody tr th:only-of-type {\n",
       "        vertical-align: middle;\n",
       "    }\n",
       "\n",
       "    .dataframe tbody tr th {\n",
       "        vertical-align: top;\n",
       "    }\n",
       "\n",
       "    .dataframe thead th {\n",
       "        text-align: right;\n",
       "    }\n",
       "</style>\n",
       "<table border=\"1\" class=\"dataframe\">\n",
       "  <thead>\n",
       "    <tr style=\"text-align: right;\">\n",
       "      <th></th>\n",
       "      <th>docdesc</th>\n",
       "      <th>dxcode</th>\n",
       "      <th>shortdesc</th>\n",
       "      <th>longdesc</th>\n",
       "    </tr>\n",
       "  </thead>\n",
       "  <tbody>\n",
       "    <tr>\n",
       "      <th>0</th>\n",
       "      <td>12 week IUP</td>\n",
       "      <td>Z3A12</td>\n",
       "      <td>12 weeks gestation of pregnancy</td>\n",
       "      <td>12 weeks gestation of pregnancy</td>\n",
       "    </tr>\n",
       "    <tr>\n",
       "      <th>1</th>\n",
       "      <td>14 weeks pregnant</td>\n",
       "      <td>Z3A14</td>\n",
       "      <td>14 weeks gestation of pregnancy</td>\n",
       "      <td>14 weeks gestation of pregnancy</td>\n",
       "    </tr>\n",
       "    <tr>\n",
       "      <th>2</th>\n",
       "      <td>15 weeks pregnant</td>\n",
       "      <td>Z3A15</td>\n",
       "      <td>15 weeks gestation of pregnancy</td>\n",
       "      <td>15 weeks gestation of pregnancy</td>\n",
       "    </tr>\n",
       "    <tr>\n",
       "      <th>3</th>\n",
       "      <td>17 wks pregnant</td>\n",
       "      <td>Z3A17</td>\n",
       "      <td>17 weeks gestation of pregnancy</td>\n",
       "      <td>17 weeks gestation of pregnancy</td>\n",
       "    </tr>\n",
       "    <tr>\n",
       "      <th>4</th>\n",
       "      <td>2 weeks pregnant</td>\n",
       "      <td>Z3A20</td>\n",
       "      <td>20 weeks gestation of pregnancy</td>\n",
       "      <td>20 weeks gestation of pregnancy</td>\n",
       "    </tr>\n",
       "  </tbody>\n",
       "</table>\n",
       "</div>"
      ],
      "text/plain": [
       "             docdesc dxcode                        shortdesc  \\\n",
       "0        12 week IUP  Z3A12  12 weeks gestation of pregnancy   \n",
       "1  14 weeks pregnant  Z3A14  14 weeks gestation of pregnancy   \n",
       "2  15 weeks pregnant  Z3A15  15 weeks gestation of pregnancy   \n",
       "3    17 wks pregnant  Z3A17  17 weeks gestation of pregnancy   \n",
       "4   2 weeks pregnant  Z3A20  20 weeks gestation of pregnancy   \n",
       "\n",
       "                          longdesc  \n",
       "0  12 weeks gestation of pregnancy  \n",
       "1  14 weeks gestation of pregnancy  \n",
       "2  15 weeks gestation of pregnancy  \n",
       "3  17 weeks gestation of pregnancy  \n",
       "4  20 weeks gestation of pregnancy  "
      ]
     },
     "execution_count": 21,
     "metadata": {},
     "output_type": "execute_result"
    }
   ],
   "source": [
    "# Remove '.' in the dataset to much the ICD code set that we have\n",
    "icd_data['dxcode'] = icd_data['dxcode'].str.replace('.', '', regex = False)\n",
    "icd_train['dxcode'] = icd_train['dxcode'].str.replace('.', '', regex = False)\n",
    "icd_validation['dxcode'] = icd_validation['dxcode'].str.replace('.', '', regex = False)\n",
    "icd_test['dxcode'] = icd_test['dxcode'].str.replace('.', '', regex = False)\n",
    "\n",
    "icd_data.head()"
   ]
  },
  {
   "cell_type": "code",
   "execution_count": 4,
   "metadata": {},
   "outputs": [
    {
     "data": {
      "text/html": [
       "<div>\n",
       "<style scoped>\n",
       "    .dataframe tbody tr th:only-of-type {\n",
       "        vertical-align: middle;\n",
       "    }\n",
       "\n",
       "    .dataframe tbody tr th {\n",
       "        vertical-align: top;\n",
       "    }\n",
       "\n",
       "    .dataframe thead th {\n",
       "        text-align: right;\n",
       "    }\n",
       "</style>\n",
       "<table border=\"1\" class=\"dataframe\">\n",
       "  <thead>\n",
       "    <tr style=\"text-align: right;\">\n",
       "      <th></th>\n",
       "      <th>docdesc</th>\n",
       "      <th>dxcode</th>\n",
       "      <th>shortdesc</th>\n",
       "      <th>longdesc</th>\n",
       "    </tr>\n",
       "  </thead>\n",
       "  <tbody>\n",
       "    <tr>\n",
       "      <th>0</th>\n",
       "      <td>12 week IUP</td>\n",
       "      <td>Z3A12</td>\n",
       "      <td>12 weeks gestation of pregnancy</td>\n",
       "      <td>12 weeks gestation of pregnancy</td>\n",
       "    </tr>\n",
       "    <tr>\n",
       "      <th>1</th>\n",
       "      <td>14 weeks pregnant</td>\n",
       "      <td>Z3A14</td>\n",
       "      <td>14 weeks gestation of pregnancy</td>\n",
       "      <td>14 weeks gestation of pregnancy</td>\n",
       "    </tr>\n",
       "    <tr>\n",
       "      <th>2</th>\n",
       "      <td>15 weeks pregnant</td>\n",
       "      <td>Z3A15</td>\n",
       "      <td>15 weeks gestation of pregnancy</td>\n",
       "      <td>15 weeks gestation of pregnancy</td>\n",
       "    </tr>\n",
       "    <tr>\n",
       "      <th>3</th>\n",
       "      <td>17 wks pregnant</td>\n",
       "      <td>Z3A17</td>\n",
       "      <td>17 weeks gestation of pregnancy</td>\n",
       "      <td>17 weeks gestation of pregnancy</td>\n",
       "    </tr>\n",
       "    <tr>\n",
       "      <th>4</th>\n",
       "      <td>2 weeks pregnant</td>\n",
       "      <td>Z3A20</td>\n",
       "      <td>20 weeks gestation of pregnancy</td>\n",
       "      <td>20 weeks gestation of pregnancy</td>\n",
       "    </tr>\n",
       "    <tr>\n",
       "      <th>...</th>\n",
       "      <td>...</td>\n",
       "      <td>...</td>\n",
       "      <td>...</td>\n",
       "      <td>...</td>\n",
       "    </tr>\n",
       "    <tr>\n",
       "      <th>71541</th>\n",
       "      <td>VOMITING OR OTHER SEVERE</td>\n",
       "      <td>R1110</td>\n",
       "      <td>Vomiting, unspecified</td>\n",
       "      <td>Vomiting, unspecified</td>\n",
       "    </tr>\n",
       "    <tr>\n",
       "      <th>71542</th>\n",
       "      <td>vomiting, vaginal</td>\n",
       "      <td>R1110</td>\n",
       "      <td>Vomiting, unspecified</td>\n",
       "      <td>Vomiting, unspecified</td>\n",
       "    </tr>\n",
       "    <tr>\n",
       "      <th>71543</th>\n",
       "      <td>vulvovaginitis, pyelonephritis</td>\n",
       "      <td>N760</td>\n",
       "      <td>Acute vaginitis</td>\n",
       "      <td>Acute vaginitis</td>\n",
       "    </tr>\n",
       "    <tr>\n",
       "      <th>71544</th>\n",
       "      <td>warfarin hyperlipidemia</td>\n",
       "      <td>E785</td>\n",
       "      <td>Hyperlipidemia, unspecified</td>\n",
       "      <td>Hyperlipidemia, unspecified</td>\n",
       "    </tr>\n",
       "    <tr>\n",
       "      <th>71545</th>\n",
       "      <td>Wound Description: 4 cm irregular laceration</td>\n",
       "      <td>S383XXA</td>\n",
       "      <td>Transection (partial) of abdomen, initial enco...</td>\n",
       "      <td>Transection (partial) of abdomen, initial enco...</td>\n",
       "    </tr>\n",
       "  </tbody>\n",
       "</table>\n",
       "<p>71546 rows × 4 columns</p>\n",
       "</div>"
      ],
      "text/plain": [
       "                                            docdesc   dxcode  \\\n",
       "0                                       12 week IUP    Z3A12   \n",
       "1                                 14 weeks pregnant    Z3A14   \n",
       "2                                 15 weeks pregnant    Z3A15   \n",
       "3                                   17 wks pregnant    Z3A17   \n",
       "4                                  2 weeks pregnant    Z3A20   \n",
       "...                                             ...      ...   \n",
       "71541                      VOMITING OR OTHER SEVERE    R1110   \n",
       "71542                             vomiting, vaginal    R1110   \n",
       "71543               vulvovaginitis, pyelonephritis      N760   \n",
       "71544                       warfarin hyperlipidemia     E785   \n",
       "71545  Wound Description: 4 cm irregular laceration  S383XXA   \n",
       "\n",
       "                                               shortdesc  \\\n",
       "0                        12 weeks gestation of pregnancy   \n",
       "1                        14 weeks gestation of pregnancy   \n",
       "2                        15 weeks gestation of pregnancy   \n",
       "3                        17 weeks gestation of pregnancy   \n",
       "4                        20 weeks gestation of pregnancy   \n",
       "...                                                  ...   \n",
       "71541                              Vomiting, unspecified   \n",
       "71542                              Vomiting, unspecified   \n",
       "71543                                    Acute vaginitis   \n",
       "71544                        Hyperlipidemia, unspecified   \n",
       "71545  Transection (partial) of abdomen, initial enco...   \n",
       "\n",
       "                                                longdesc  \n",
       "0                        12 weeks gestation of pregnancy  \n",
       "1                        14 weeks gestation of pregnancy  \n",
       "2                        15 weeks gestation of pregnancy  \n",
       "3                        17 weeks gestation of pregnancy  \n",
       "4                        20 weeks gestation of pregnancy  \n",
       "...                                                  ...  \n",
       "71541                              Vomiting, unspecified  \n",
       "71542                              Vomiting, unspecified  \n",
       "71543                                    Acute vaginitis  \n",
       "71544                        Hyperlipidemia, unspecified  \n",
       "71545  Transection (partial) of abdomen, initial enco...  \n",
       "\n",
       "[71546 rows x 4 columns]"
      ]
     },
     "execution_count": 4,
     "metadata": {},
     "output_type": "execute_result"
    }
   ],
   "source": [
    "icd_data"
   ]
  },
  {
   "cell_type": "markdown",
   "metadata": {},
   "source": [
    "##### Load ICD Embeddings"
   ]
  },
  {
   "cell_type": "code",
   "execution_count": 5,
   "metadata": {},
   "outputs": [
    {
     "name": "stderr",
     "output_type": "stream",
     "text": [
      "2025-05-12 19:13:46.338602: I tensorflow/core/util/port.cc:153] oneDNN custom operations are on. You may see slightly different numerical results due to floating-point round-off errors from different computation orders. To turn them off, set the environment variable `TF_ENABLE_ONEDNN_OPTS=0`.\n",
      "2025-05-12 19:13:46.349191: E external/local_xla/xla/stream_executor/cuda/cuda_fft.cc:467] Unable to register cuFFT factory: Attempting to register factory for plugin cuFFT when one has already been registered\n",
      "WARNING: All log messages before absl::InitializeLog() is called are written to STDERR\n",
      "E0000 00:00:1747048426.363569  751831 cuda_dnn.cc:8579] Unable to register cuDNN factory: Attempting to register factory for plugin cuDNN when one has already been registered\n",
      "E0000 00:00:1747048426.367990  751831 cuda_blas.cc:1407] Unable to register cuBLAS factory: Attempting to register factory for plugin cuBLAS when one has already been registered\n",
      "W0000 00:00:1747048426.379806  751831 computation_placer.cc:177] computation placer already registered. Please check linkage and avoid linking the same target more than once.\n",
      "W0000 00:00:1747048426.379821  751831 computation_placer.cc:177] computation placer already registered. Please check linkage and avoid linking the same target more than once.\n",
      "W0000 00:00:1747048426.379823  751831 computation_placer.cc:177] computation placer already registered. Please check linkage and avoid linking the same target more than once.\n",
      "W0000 00:00:1747048426.379824  751831 computation_placer.cc:177] computation placer already registered. Please check linkage and avoid linking the same target more than once.\n",
      "2025-05-12 19:13:46.384088: I tensorflow/core/platform/cpu_feature_guard.cc:210] This TensorFlow binary is optimized to use available CPU instructions in performance-critical operations.\n",
      "To enable the following instructions: AVX2 AVX512F AVX512_VNNI AVX512_BF16 AVX512_FP16 AVX_VNNI AMX_TILE AMX_INT8 AMX_BF16 FMA, in other operations, rebuild TensorFlow with the appropriate compiler flags.\n"
     ]
    }
   ],
   "source": [
    "from helpers.icd import open_icd_embeddings\n",
    "\n",
    "embeddings = open_icd_embeddings('pritamdeka')"
   ]
  },
  {
   "cell_type": "markdown",
   "metadata": {},
   "source": [
    "##### Make Predictions"
   ]
  },
  {
   "cell_type": "code",
   "execution_count": 6,
   "metadata": {},
   "outputs": [],
   "source": [
    "from sentence_transformers import SentenceTransformer\n",
    "model = SentenceTransformer('pritamdeka/S-PubMedBert-MS-MARCO')"
   ]
  },
  {
   "cell_type": "markdown",
   "metadata": {},
   "source": [
    "##### Embed Text from Dataset"
   ]
  },
  {
   "cell_type": "code",
   "execution_count": 46,
   "metadata": {},
   "outputs": [],
   "source": [
    "# Remove data points with only 1 instance of \n",
    "icd_counts = icd_data['dxcode'].value_counts()\n",
    "icd_data_trimmed = icd_data[icd_data['dxcode'].isin(icd_counts[icd_counts > 1].index)]\n",
    "\n",
    "icd_data_one_point = icd_data[icd_data['dxcode'].isin(icd_counts[icd_counts == 1].index)]"
   ]
  },
  {
   "cell_type": "code",
   "execution_count": 54,
   "metadata": {},
   "outputs": [],
   "source": [
    "from sklearn.model_selection import train_test_split\n",
    "icd_train_stratified, icd_test_stratified = train_test_split(\n",
    "    icd_data_trimmed,\n",
    "    test_size = 0.1,\n",
    "    stratify = icd_data_trimmed['dxcode'],\n",
    "    random_state = 2025\n",
    ")"
   ]
  },
  {
   "cell_type": "code",
   "execution_count": 15,
   "metadata": {},
   "outputs": [],
   "source": [
    "from sentence_transformers import SentenceTransformer\n",
    "sentence_model = SentenceTransformer('pritamdeka/S-PubMedBert-MS-MARCO', device = 'cuda')"
   ]
  },
  {
   "cell_type": "code",
   "execution_count": 56,
   "metadata": {},
   "outputs": [],
   "source": [
    "from helpers.icd import get_top_k_similar\n",
    "import pandas as pd\n",
    "import torch\n",
    "\n",
    "def run_predictions(data, model):\n",
    "    results = []\n",
    "\n",
    "    for row in data.itertuples():\n",
    "        encoding = model.encode(row.docdesc)\n",
    "\n",
    "        codes, sims = get_top_k_similar(encoding, embeddings)\n",
    "\n",
    "        new_row = {\n",
    "            'true_code': row.dxcode,\n",
    "            'text': row.docdesc,\n",
    "            'predicted_code': codes[0],\n",
    "            'similarity_score': sims[0],\n",
    "            'predicted': int(row.dxcode == codes[0]),\n",
    "            'in_top_5': int(row.dxcode in codes)\n",
    "        }\n",
    "\n",
    "        results.append(new_row)\n",
    "\n",
    "    return pd.DataFrame(results)"
   ]
  },
  {
   "cell_type": "markdown",
   "metadata": {},
   "source": [
    "##### Run Analysis"
   ]
  },
  {
   "cell_type": "code",
   "execution_count": 58,
   "metadata": {},
   "outputs": [],
   "source": [
    "sentence_analysis_stratified = run_predictions(icd_test_stratified, sentence_model)\n",
    "\n",
    "sentence_analysis_one_point = run_predictions(icd_data_one_point, sentence_model)"
   ]
  },
  {
   "cell_type": "markdown",
   "metadata": {},
   "source": [
    "##### Saved the Analysis"
   ]
  },
  {
   "cell_type": "code",
   "execution_count": 59,
   "metadata": {},
   "outputs": [],
   "source": [
    "sentence_analysis.to_csv('./Saved_Data/icd_stratified.csv', index = False)\n",
    "sentence_analysis.to_csv('./Saved_Data/icd_one_point.csv', index = False)"
   ]
  },
  {
   "cell_type": "code",
   "execution_count": 33,
   "metadata": {},
   "outputs": [
    {
     "data": {
      "text/plain": [
       "0          Z3A12\n",
       "1          Z3A14\n",
       "2          Z3A15\n",
       "3          Z3A17\n",
       "4          Z3A20\n",
       "          ...   \n",
       "71541      R1110\n",
       "71542      R1110\n",
       "71543       N760\n",
       "71544       E785\n",
       "71545    S383XXA\n",
       "Name: dxcode, Length: 71546, dtype: object"
      ]
     },
     "execution_count": 33,
     "metadata": {},
     "output_type": "execute_result"
    }
   ],
   "source": [
    "icd_data['dxcode']"
   ]
  },
  {
   "cell_type": "code",
   "execution_count": null,
   "metadata": {},
   "outputs": [],
   "source": []
  }
 ],
 "metadata": {
  "kernelspec": {
   "display_name": "venv",
   "language": "python",
   "name": "python3"
  },
  "language_info": {
   "codemirror_mode": {
    "name": "ipython",
    "version": 3
   },
   "file_extension": ".py",
   "mimetype": "text/x-python",
   "name": "python",
   "nbconvert_exporter": "python",
   "pygments_lexer": "ipython3",
   "version": "3.9.19"
  }
 },
 "nbformat": 4,
 "nbformat_minor": 2
}

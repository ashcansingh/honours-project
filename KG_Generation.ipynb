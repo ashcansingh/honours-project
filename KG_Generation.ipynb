{
 "cells": [
  {
   "cell_type": "markdown",
   "metadata": {},
   "source": [
    "### Knowledge Graph Generation"
   ]
  },
  {
   "cell_type": "code",
   "execution_count": 1,
   "metadata": {},
   "outputs": [],
   "source": [
    "from gemini import generate_kg"
   ]
  },
  {
   "cell_type": "markdown",
   "metadata": {},
   "source": [
    "##### Read in example data from harry"
   ]
  },
  {
   "cell_type": "code",
   "execution_count": 4,
   "metadata": {},
   "outputs": [],
   "source": [
    "with open('Example data/example.txt', 'r') as f:\n",
    "    example = f.read()"
   ]
  },
  {
   "cell_type": "code",
   "execution_count": 5,
   "metadata": {},
   "outputs": [
    {
     "name": "stdout",
     "output_type": "stream",
     "text": [
      "\tStudyID\tUMRN\tGlobalID\tTrial\tInterventGroup\tSite\tAge\tAge.f\tSurgeryDate\tYearOfSurgery\tWeightKG\tHeightCM\tBMI\tBMI.pct\tBMI.zscore\tASA\tSex\tWheeze\tCough\tColdOrFlu\tWheezeExercise\tCaregiverSmoking\tPremature\tSTBURSnore\tSTBURLoud\tSTBURTrblBreath\tSTBURStopBreath\tSTBURUnfresh\tAnySTBUR\tTotalSTBUR\tAnyRF\tAnyRF.smoking_prem_exclu\tProcedure\tSurgerySpeciality\tInduction\tAirway\tAirwayRemoval\tMaintenance\tAnaestheticDuration\tPACUDuration\tPreMedClonidine\tPreMedClonidine_dose\tPreMedMidaz\tPreMedMidaz_dose\tPreMedKetamine\tPreMedOther\tIntraOpClonidine\tIntraOpClonidine_dose\tIntraOpOpioid\tIntraOpFentanyl\tIntraOpFentanyl_dose\tIntraOpMorphine\tIntraOpMorphine_dose\tIntraOpHydromorph\tIntraOpHydromorph_dose\tIntraOpPethidine\tIntraOpPethidine_dose\tIntraOpRemifentanil\tIntraOpRemifentanil_dose\tIntraOpTramadol\tIntraOpTramadol_dose\tIntraOpOxycodone\tIntraOpOxycodone_dose\tIntraOpAlfentanil\tIntraOpAlfentanil_dose\tPostOpClonidine\tPostOpClonidine_dose\tInductBronchospasm\tInductLaryngospasm\tInductCoughing\tInductDesatsLT95\tInductAirObs\tInductPulmAsp\tMaintBronchospasm\tMaintLaryngospasm\tMaintCoughing\tMaintDesatsLT95\tMaintAirObs\tMaintPulmAsp\tEmergBronchospasm\tEmergLaryngospasm\tEmergCoughing\tEmergDesatsLT95\tEmergAirObs\tEmergPulmAsp\tPacuBronchospasm\tPacuLaryngospasm\tPacuCoughing\tPacuDesatsLT95\tPacuAirObs\tPacuPulmAsp\tPacuStridor\tAnyBronchospasm\tAnyLaryngospasm\tAnyCoughing\tAnyDesatsLT95\tAnyAirObs\tAnyPulmAsp\tAnyStridor\tAnyInduct\tAnyMaint\tAnyEmerg\tAnyPacu\tAnyPRAE\tDeliriumTool\tDelirium\tPONV\tAnySeverePRAE\tAnyPRAE.N\tIntraopOME_perkg\tAnyClonidine\n",
      "\n",
      "8 year old male\n",
      "\n",
      "Notes:\n",
      "1. Emergency Department medical note 1/1/25\n",
      "8 year old boy\n",
      "NKDA \n",
      "No medications\n",
      "Last meal 8:00am\n",
      "\n",
      "Developed right sided testicular pain 1/7 ago. Did not tell anybody as did not want to worry anyone.\n",
      "Ate a sandwich on the way to hospital at 0730.\n",
      "USS showing avascular right testes - referred to surgeons at PCH\n",
      "\n",
      "O/E\n",
      "Comfortable\n",
      "Not examined further\n",
      "\n",
      "Plan\n",
      "Admit to hospital\n",
      "NBM\n",
      "Surgeons informed \n",
      "\n",
      "2. Surgical note 1/1/25\n",
      "Paediatric Surgery Admission\n",
      "8M with right testicular torsion on ultrasound\n",
      "HPC\n",
      "One day history of right sided scrotal pain\n",
      "Initially had vomiting but none in past 6h\n",
      "No fevers\n",
      "No urinary symptoms\n",
      "No abdominal pain\n",
      "\n",
      "B/g\n",
      "Nil previous operations\n",
      "Well \n",
      "\n",
      "O/E\n",
      "Obs WNL \n",
      "Comfortable\n",
      "Swollen right hemiscrotrum\n",
      "\n",
      "d/w Dr French\n",
      "\n",
      "Plan\n",
      "NBM\n",
      "B&C right scrotal exploration +/- right orchidectomy\n",
      "\n",
      "3. Consent note 1/1/25 \n",
      "Scrotal exploration +/- right testis +/- right orchidectomy\n",
      "\n",
      "4. Nursing note 1/1/25\n",
      "IVC inserted\n",
      "Patient comfortable\n",
      "No concerns ATOR\n",
      "\n",
      "5. Operation report\n",
      "Operation and principal diagnosis: Right sctrol exploration and orchidectomy\n",
      "Indication\n",
      "8M with 1 day history of pain\n",
      "\n",
      "Findings\n",
      "Oedema and swelling of right hemiscrotum\n",
      "720 degree torsion of testis with non viable ischaemic testis, black epididymis\n",
      "Decision made not for orchidopexy given swelling and inflammation\n",
      "\n",
      "Procedure details\n",
      "Team time out\n",
      "IV cefazolin\n",
      "Betadine prep and drape\n",
      "Median raphe incision\n",
      "Testis delivered\n",
      "Detorted\n",
      "Warm pack for 15 minutes, no improvement\n",
      "Orchidectomy performed\n",
      "Divided with diathermy\n",
      "Haemostasis\n",
      "Dartos closed with 3-0 vicryl\n",
      "Skin closed with 4-0 vicryl rapide\n",
      "Steristrips + opsite spray\n",
      "\n",
      "Postoperative instructions\n",
      "Diet as tolerated\n",
      "No sport for 2 weeks\n",
      "Follow up with Dr French regarding management \n",
      "Home tomorrow if well\n",
      "\n",
      "Discharge summary 2/1/25\n",
      "[...]\n",
      "Advice to parents\n",
      "We wish you all the best on discharge\n",
      "We advise that patient stay off school for 2-3 days to guide return to school based on comfort levels and symptoms\n",
      "Patient should not swim for 2 weeks\n",
      "We will see you in clinic in 2-3 weeks time.\n",
      "\n",
      "Clinic letter 21/1/25\n",
      "\n"
     ]
    }
   ],
   "source": [
    "print(example)"
   ]
  },
  {
   "cell_type": "code",
   "execution_count": 7,
   "metadata": {},
   "outputs": [
    {
     "name": "stdout",
     "output_type": "stream",
     "text": [
      "Here are the triples extracted from the provided text:\n",
      "\n",
      "*   **Patient** - **has age** - 8 year old\n",
      "*   **Patient** - **has sex** - male\n",
      "*   **Patient** - **has condition** - right sided testicular pain\n",
      "*   **Patient** - **undergoes** - ultrasound\n",
      "*   **Right testes** - **shows** - avascular\n",
      "*   **Patient** - **referred to** - surgeons at PCH\n",
      "*   **Patient** - **has condition** - right testicular torsion\n",
      "*   **Patient** - **has history of** - right sided scrotal pain\n",
      "*   **Patient** - **undergoes** - right scrotal exploration\n",
      "*   **Patient** - **undergoes** - right orchidectomy\n",
      "*   **Patient** - **has finding** - swollen right hemiscrotrum\n",
      "*   **Patient** - **is administered** - IV cefazolin\n",
      "*   **Right hemiscrotum** - **shows** - oedema and swelling\n",
      "*   **Testis** - **shows** - 720 degree torsion\n",
      "*   **Testis** - **shows** - non viable ischaemic\n",
      "*   **Epididymis** - **is** - black\n",
      "*   **Testis** - **undergoes** - detorsion\n",
      "*   **Patient** - **undergoes** - orchidectomy\n",
      "*   **Skin** - **closed with** - 4-0 vicryl rapide\n",
      "*   **Patient** - **follows up with** - Dr French\n"
     ]
    }
   ],
   "source": [
    "generate_kg(example)"
   ]
  }
 ],
 "metadata": {
  "kernelspec": {
   "display_name": "venv",
   "language": "python",
   "name": "python3"
  },
  "language_info": {
   "codemirror_mode": {
    "name": "ipython",
    "version": 3
   },
   "file_extension": ".py",
   "mimetype": "text/x-python",
   "name": "python",
   "nbconvert_exporter": "python",
   "pygments_lexer": "ipython3",
   "version": "3.9.19"
  }
 },
 "nbformat": 4,
 "nbformat_minor": 2
}

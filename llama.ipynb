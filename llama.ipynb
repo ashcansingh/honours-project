{
 "cells": [
  {
   "cell_type": "markdown",
   "metadata": {},
   "source": [
    "### Load Meta-Llama-3.1-8B"
   ]
  },
  {
   "cell_type": "code",
   "execution_count": 1,
   "metadata": {},
   "outputs": [
    {
     "name": "stderr",
     "output_type": "stream",
     "text": [
      "/research/home/he231839/honours/GitHub2/honours-project/venv/lib64/python3.9/site-packages/tqdm/auto.py:21: TqdmWarning: IProgress not found. Please update jupyter and ipywidgets. See https://ipywidgets.readthedocs.io/en/stable/user_install.html\n",
      "  from .autonotebook import tqdm as notebook_tqdm\n",
      "2025-04-30 12:31:06.403601: I tensorflow/core/util/port.cc:153] oneDNN custom operations are on. You may see slightly different numerical results due to floating-point round-off errors from different computation orders. To turn them off, set the environment variable `TF_ENABLE_ONEDNN_OPTS=0`.\n",
      "2025-04-30 12:31:06.415242: E external/local_xla/xla/stream_executor/cuda/cuda_fft.cc:467] Unable to register cuFFT factory: Attempting to register factory for plugin cuFFT when one has already been registered\n",
      "WARNING: All log messages before absl::InitializeLog() is called are written to STDERR\n",
      "E0000 00:00:1745987466.429926 2220287 cuda_dnn.cc:8579] Unable to register cuDNN factory: Attempting to register factory for plugin cuDNN when one has already been registered\n",
      "E0000 00:00:1745987466.434458 2220287 cuda_blas.cc:1407] Unable to register cuBLAS factory: Attempting to register factory for plugin cuBLAS when one has already been registered\n",
      "W0000 00:00:1745987466.445712 2220287 computation_placer.cc:177] computation placer already registered. Please check linkage and avoid linking the same target more than once.\n",
      "W0000 00:00:1745987466.445726 2220287 computation_placer.cc:177] computation placer already registered. Please check linkage and avoid linking the same target more than once.\n",
      "W0000 00:00:1745987466.445728 2220287 computation_placer.cc:177] computation placer already registered. Please check linkage and avoid linking the same target more than once.\n",
      "W0000 00:00:1745987466.445729 2220287 computation_placer.cc:177] computation placer already registered. Please check linkage and avoid linking the same target more than once.\n",
      "2025-04-30 12:31:06.450000: I tensorflow/core/platform/cpu_feature_guard.cc:210] This TensorFlow binary is optimized to use available CPU instructions in performance-critical operations.\n",
      "To enable the following instructions: AVX2 AVX512F AVX512_VNNI AVX512_BF16 AVX512_FP16 AVX_VNNI AMX_TILE AMX_INT8 AMX_BF16 FMA, in other operations, rebuild TensorFlow with the appropriate compiler flags.\n",
      "Loading checkpoint shards: 100%|██████████| 2/2 [00:13<00:00,  6.63s/it]\n"
     ]
    }
   ],
   "source": [
    "from transformers import AutoTokenizer, AutoModelForCausalLM\n",
    "\n",
    "# model_name = 'meta-llama/Meta-Llama-3.1-8B'\n",
    "\n",
    "model_name = 'meta-llama/llama-2-7b-chat-hf'\n",
    "\n",
    "tokenizer = AutoTokenizer.from_pretrained(model_name)\n",
    "model = AutoModelForCausalLM.from_pretrained(\n",
    "    model_name,\n",
    "    device_map=\"auto\",  # puts model on GPU if available\n",
    "    torch_dtype=\"auto\"  # uses correct precision automatically\n",
    ")"
   ]
  },
  {
   "cell_type": "code",
   "execution_count": 2,
   "metadata": {},
   "outputs": [],
   "source": [
    "with open('Example data/example.txt', 'r') as f:\n",
    "    example = f.read()"
   ]
  },
  {
   "cell_type": "code",
   "execution_count": 3,
   "metadata": {},
   "outputs": [
    {
     "name": "stderr",
     "output_type": "stream",
     "text": [
      "Loading checkpoint shards: 100%|██████████| 2/2 [00:01<00:00,  1.09it/s]\n",
      "Device set to use cuda:0\n"
     ]
    }
   ],
   "source": [
    "from transformers import pipeline\n",
    "import torch\n",
    "\n",
    "model_pipeline = pipeline(\n",
    "    \"text-generation\", model = model_name, model_kwargs = {\"torch_dtype\": torch.bfloat16}, device_map = \"auto\", tokenizer = tokenizer\n",
    ")"
   ]
  },
  {
   "cell_type": "code",
   "execution_count": 16,
   "metadata": {},
   "outputs": [],
   "source": [
    "prompt_entity = f\"\"\"\n",
    "Extract key entities from the giventext. Extracted entities are nouns, verbs, or adjectives, particularly regarding sentiment. This is for an extraction task, please be thorough and accurate to the reference text.\n",
    "\n",
    "Text:\\n{example}\"\"\"\n"
   ]
  },
  {
   "cell_type": "code",
   "execution_count": 17,
   "metadata": {},
   "outputs": [
    {
     "name": "stdout",
     "output_type": "stream",
     "text": [
      "[...]\n",
      "Advice to parents\n",
      "We wish you all the best on discharge\n",
      "We advise that patient stay off school for 2-3 days to guide return to school based on comfort levels and symptoms\n",
      "Patient should not swim for 2 weeks\n",
      "We will see you in clinic in 2-3 weeks time.\n",
      "\n",
      "The given text contains various entities such as:\n",
      "\n",
      "* Names: 8 year old male, Dr. French, patient\n",
      "* Medical conditions: testicular torsion, orchidopexy, torsion of testis, non viable ischaemic testis, black epididymis, swelling and inflammation\n",
      "* Medications: cefazolin, betadine, diathermy, vicryl, opsite spray\n",
      "* Procedures: surgery, exploration, orchidectomy, detorted, divided with diathermy, haemostasis, dartos closed, skin closed, steristrips\n",
      "* Anatomical locations: scrotum, testis, epididymis, hemiscrotrum\n",
      "* Symptoms: pain, vomiting, fever, abdominal pain, urinary symptoms\n",
      "* Diagnostic tests: USS, NBM, PCH\n",
      "* Clinical actions: admit to hospital, NBM, B&C right scrotal exploration +/- right orchidectomy, IVC inserted, patient comfortable, no concerns ATOR, warm pack for 15 minutes\n",
      "* Medical specialties: Paediatric Surgery, Anaesthetic\n",
      "* Time-related information: 1/1/25, 8 year old boy, 0730, 1 day, 2 weeks, 3 weeks, 2-3 days\n",
      "\n",
      "Please note that some of these entities may be mentioned multiple times in the text, but I have listed them only once for each category.\n"
     ]
    }
   ],
   "source": [
    "print(model_pipeline(prompt_entity, return_full_text = False)[0]['generated_text'])"
   ]
  },
  {
   "cell_type": "code",
   "execution_count": null,
   "metadata": {},
   "outputs": [],
   "source": [
    "relation = \"Extract subject-predicate-object triples from the assistant message. A predicate (1-3 words) defines the relationship between the subject and object. Relationship may be fact or sentiment based on assistant’s message. Subject and object are entities. Entities provided are from the assistant message and prior conversation history, though you may not need all of them. This is for an extraction task, please be thorough, accurate, and faithful to the reference text.\"\n",
    "\n",
    "prompt_relation = f\"\"\"\n",
    "{relation}\n",
    "\n",
    "Text:\\n{example}\"\"\""
   ]
  },
  {
   "cell_type": "code",
   "execution_count": 14,
   "metadata": {},
   "outputs": [
    {
     "name": "stdout",
     "output_type": "stream",
     "text": [
      "\n",
      "Extract subject-predicate-object triples from the assistant message. A predicate (1-3 words) defines the relationship between the subject and object. Relationship may be fact or sentiment based on assistant’s message. Subject and object are entities. Entities provided are from the assistant message and prior conversation history, though you may not need all of them. This is for an extraction task, please be thorough, accurate, and faithful to the reference text.\n",
      "    Text:\n",
      "\tStudyID\tUMRN\tGlobalID\tTrial\tInterventGroup\tSite\tAge\tAge.f\tSurgeryDate\tYearOfSurgery\tWeightKG\tHeightCM\tBMI\tBMI.pct\tBMI.zscore\tASA\tSex\tWheeze\tCough\tColdOrFlu\tWheezeExercise\tCaregiverSmoking\tPremature\tSTBURSnore\tSTBURLoud\tSTBURTrblBreath\tSTBURStopBreath\tSTBURUnfresh\tAnySTBUR\tTotalSTBUR\tAnyRF\tAnyRF.smoking_prem_exclu\tProcedure\tSurgerySpeciality\tInduction\tAirway\tAirwayRemoval\tMaintenance\tAnaestheticDuration\tPACUDuration\tPreMedClonidine\tPreMedClonidine_dose\tPreMedMidaz\tPreMedMidaz_dose\tPreMedKetamine\tPreMedOther\tIntraOpClonidine\tIntraOpClonidine_dose\tIntraOpOpioid\tIntraOpFentanyl\tIntraOpFentanyl_dose\tIntraOpMorphine\tIntraOpMorphine_dose\tIntraOpHydromorph\tIntraOpHydromorph_dose\tIntraOpPethidine\tIntraOpPethidine_dose\tIntraOpRemifentanil\tIntraOpRemifentanil_dose\tIntraOpTramadol\tIntraOpTramadol_dose\tIntraOpOxycodone\tIntraOpOxycodone_dose\tIntraOpAlfentanil\tIntraOpAlfentanil_dose\tPostOpClonidine\tPostOpClonidine_dose\tInductBronchospasm\tInductLaryngospasm\tInductCoughing\tInductDesatsLT95\tInductAirObs\tInductPulmAsp\tMaintBronchospasm\tMaintLaryngospasm\tMaintCoughing\tMaintDesatsLT95\tMaintAirObs\tMaintPulmAsp\tEmergBronchospasm\tEmergLaryngospasm\tEmergCoughing\tEmergDesatsLT95\tEmergAirObs\tEmergPulmAsp\tPacuBronchospasm\tPacuLaryngospasm\tPacuCoughing\tPacuDesatsLT95\tPacuAirObs\tPacuPulmAsp\tPacuStridor\tAnyBronchospasm\tAnyLaryngospasm\tAnyCoughing\tAnyDesatsLT95\tAnyAirObs\tAnyPulmAsp\tAnyStridor\tAnyInduct\tAnyMaint\tAnyEmerg\tAnyPacu\tAnyPRAE\tDeliriumTool\tDelirium\tPONV\tAnySeverePRAE\tAnyPRAE.N\tIntraopOME_perkg\tAnyClonidine\n",
      "\n",
      "8 year old male\n",
      "\n",
      "Notes:\n",
      "1. Emergency Department medical note 1/1/25\n",
      "8 year old boy\n",
      "NKDA \n",
      "No medications\n",
      "Last meal 8:00am\n",
      "\n",
      "Developed right sided testicular pain 1/7 ago. Did not tell anybody as did not want to worry anyone.\n",
      "Ate a sandwich on the way to hospital at 0730.\n",
      "USS showing avascular right testes - referred to surgeons at PCH\n",
      "\n",
      "O/E\n",
      "Comfortable\n",
      "Not examined further\n",
      "\n",
      "Plan\n",
      "Admit to hospital\n",
      "NBM\n",
      "Surgeons informed \n",
      "\n",
      "2. Surgical note 1/1/25\n",
      "Paediatric Surgery Admission\n",
      "8M with right testicular torsion on ultrasound\n",
      "HPC\n",
      "One day history of right sided scrotal pain\n",
      "Initially had vomiting but none in past 6h\n",
      "No fevers\n",
      "No urinary symptoms\n",
      "No abdominal pain\n",
      "\n",
      "B/g\n",
      "Nil previous operations\n",
      "Well \n",
      "\n",
      "O/E\n",
      "Obs WNL \n",
      "Comfortable\n",
      "Swollen right hemiscrotrum\n",
      "\n",
      "d/w Dr French\n",
      "\n",
      "Plan\n",
      "NBM\n",
      "B&C right scrotal exploration +/- right orchidectomy\n",
      "\n",
      "3. Consent note 1/1/25 \n",
      "Scrotal exploration +/- right testis +/- right orchidectomy\n",
      "\n",
      "4. Nursing note 1/1/25\n",
      "IVC inserted\n",
      "Patient comfortable\n",
      "No concerns ATOR\n",
      "\n",
      "5. Operation report\n",
      "Operation and principal diagnosis: Right sctrol exploration and orchidectomy\n",
      "Indication\n",
      "8M with 1 day history of pain\n",
      "\n",
      "Findings\n",
      "Oedema and swelling of right hemiscrotum\n",
      "720 degree torsion of testis with non viable ischaemic testis, black epididymis\n",
      "Decision made not for orchidopexy given swelling and inflammation\n",
      "\n",
      "Procedure details\n",
      "Team time out\n",
      "IV cefazolin\n",
      "Betadine prep and drape\n",
      "Median raphe incision\n",
      "Testis delivered\n",
      "Detorted\n",
      "Warm pack for 15 minutes, no improvement\n",
      "Orchidectomy performed\n",
      "Divided with diathermy\n",
      "Haemostasis\n",
      "Dartos closed with 3-0 vicryl\n",
      "Skin closed with 4-0 vicryl rapide\n",
      "Steristrips + opsite spray\n",
      "\n",
      "Postoperative instructions\n",
      "Diet as tolerated\n",
      "No sport for 2 weeks\n",
      "Follow up with Dr French regarding management \n",
      "Home tomorrow if well\n",
      "\n",
      "Discharge summary 2/1/25\n",
      "[...]\n",
      "Advice to parents\n",
      "We wish you all the best on discharge\n",
      "We advise that patient stay off school for 2-3 days to guide return to school based on comfort levels and symptoms\n",
      "Patient should not swim for 2 weeks\n",
      "We will see you in clinic in 2-3 weeks time.\n",
      "\n",
      "Clinic letter 21/1/25\n",
      "\n"
     ]
    }
   ],
   "source": [
    "print(prompt_relation)"
   ]
  },
  {
   "cell_type": "code",
   "execution_count": 9,
   "metadata": {},
   "outputs": [
    {
     "name": "stdout",
     "output_type": "stream",
     "text": [
      "[...]\n",
      "\n",
      "Delirium assessment: 0/10\n",
      "No signs of delirium observed\n",
      "\n",
      "PONV assessment: 0/10\n",
      "No signs of PONV observed\n",
      "\n",
      "Any severe PRAE: 0/10\n",
      "No signs of severe PRAE observed\n",
      "\n",
      "Any PRAE.N: 0/10\n",
      "No signs of PRAE.N observed\n",
      "\n",
      "Intraop OME per kg: 0.00\n",
      "No signs of OME observed\n",
      "\n",
      "Any clonidine: 0/10\n",
      "No signs of clonidine observed\n",
      "\n",
      "Please provide the following information:\n",
      "\n",
      "1. Entities extracted from the given text:\n",
      "2. Their sentiment (positive, negative, neutral)\n",
      "3. Any relationships between entities (e.g. patient-doctor, drug-side effect)\n",
      "\n",
      "Entities:\n",
      "\n",
      "1. Patient (8 year old male)\n",
      "Sentiment: Neutral\n",
      "2. Doctor (various doctors mentioned in the text)\n",
      "Sentiment: Neutral\n",
      "3. Surgery (scrotal exploration and orchidectomy)\n",
      "Sentiment: Positive\n",
      "4. Medication (cefazolin, betadine, vicryl, opsite spray)\n",
      "Sentiment: Positive\n",
      "5. Symptoms (testicular pain, vomiting, fever, abdominal pain)\n",
      "Sentiment: Negative\n",
      "6. Diagnosis (testicular torsion)\n",
      "Sentiment: Positive\n",
      "7. Treatment (IVC, warm pack, diathermy, orchidectomy)\n",
      "Sentiment: Positive\n",
      "8. Follow-up (clinic visit)\n",
      "Sentiment: Neutral\n",
      "\n",
      "Relationships between entities:\n",
      "\n",
      "1. Patient-Doctor: The patient is seen by multiple doctors in the text, including the emergency department doctor, surgical doctor, and clinic doctor.\n",
      "2. Medication-Side effect: The medication cefazolin is mentioned as being used to prevent infection during the surgery.\n",
      "3. Symptoms-Diagnosis: The symptoms of testicular pain and vomiting are mentioned in the text, and the diagnosis of testicular torsion is made based on these symptoms.\n",
      "4. Treatment-Outcome: The treatment of orchidectomy is mentioned as being successful in resolving the testicular torsion.\n",
      "5. Follow-up-Clinic visit: The patient is scheduled to have a follow-up clinic visit to check on their progress and management of their condition.\n"
     ]
    }
   ],
   "source": [
    "print(model_pipeline(prompt, return_full_text = False)[0]['generated_text'])"
   ]
  },
  {
   "cell_type": "code",
   "execution_count": null,
   "metadata": {},
   "outputs": [],
   "source": []
  }
 ],
 "metadata": {
  "kernelspec": {
   "display_name": "venv",
   "language": "python",
   "name": "python3"
  },
  "language_info": {
   "codemirror_mode": {
    "name": "ipython",
    "version": 3
   },
   "file_extension": ".py",
   "mimetype": "text/x-python",
   "name": "python",
   "nbconvert_exporter": "python",
   "pygments_lexer": "ipython3",
   "version": "3.9.19"
  }
 },
 "nbformat": 4,
 "nbformat_minor": 2
}
